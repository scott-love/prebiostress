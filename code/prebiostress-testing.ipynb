{
 "cells": [
  {
   "cell_type": "markdown",
   "metadata": {},
   "source": [
    "# Python Package Import"
   ]
  },
  {
   "cell_type": "code",
   "execution_count": null,
   "metadata": {},
   "outputs": [],
   "source": [
    "import os\n",
    "import json\n",
    "import fnmatch\n",
    "import glob"
   ]
  },
  {
   "cell_type": "markdown",
   "metadata": {},
   "source": [
    "# BIDS Data Organisation\n",
    "\n",
    "I first used the scripts code/prebio-organise_tpX.py, which used dcm2niix for dicom import. After testing MRtrix and realising that dcm2nii was introducing a rotation to the DWI vectors (see http://community.mrtrix.org/t/dw-scheme-dicom-import-or-fslgrad-json-import/1961) I re-ran this import for the DWI data using the updated dcm2niix version installed from conda."
   ]
  },
  {
   "cell_type": "code",
   "execution_count": null,
   "metadata": {},
   "outputs": [],
   "source": [
    "!dcm2niix -v"
   ]
  },
  {
   "cell_type": "markdown",
   "metadata": {},
   "source": [
    "### DWI Data Import"
   ]
  },
  {
   "cell_type": "code",
   "execution_count": null,
   "metadata": {},
   "outputs": [],
   "source": [
    "# define function that lists all files except hidden files\n",
    "def listdir_nohidden(path):\n",
    "    for f in os.listdir(path):\n",
    "        if not f.startswith('.'):\n",
    "            yield f\n",
    "\n",
    "toplvl = \"/Volumes/data/prebiostress/data\"\n",
    "niidir = toplvl + \"/sourcedata/nifti\"\n",
    "tp=\"1\" # do timepoint1\n",
    "dcmdir = \"/Volumes/data/prebiostress/data/sourcedata/dicom/timepoint\"+tp\n",
    "\n",
    "#RL\n",
    "for fname in listdir_nohidden(dcmdir):\n",
    "    subj = fname.split(\"_\")[-2].split(\"_\")[0]\n",
    "\n",
    "    datadir = glob.glob(dcmdir+'/'+fname+'/*/DWI_MB3_DIR64_RL_0*')\n",
    "    datadir = ''.join(datadir)\n",
    "    cmd = \"dcm2niix -z y -f sub-\" +subj[1:] +\"_ses-\" +tp +\"_acq-rl_dwi \" \\\n",
    "        \"-o \" +niidir +\"/sub-\" +subj[1:] +\"/ses-\" +tp +\"/dwi \" +datadir\n",
    "    print(cmd)\n",
    "    os.system(cmd)\n",
    "#LR\n",
    "for fname in listdir_nohidden(dcmdir):\n",
    "    subj = fname.split(\"_\")[-2].split(\"_\")[0]\n",
    "\n",
    "    datadir = glob.glob(dcmdir+'/'+fname+'/*/DWI_MB3_DIR64_LR_0*')\n",
    "    datadir = ''.join(datadir)\n",
    "    cmd = \"dcm2niix -z y -f sub-\" +subj[1:] +\"_ses-\" +tp +\"_acq-lr_dwi \" \\\n",
    "        \"-o \" +niidir +\"/sub-\" +subj[1:] +\"/ses-\" +tp +\"/dwi \" +datadir\n",
    "    print(cmd)\n",
    "    os.system(cmd)\n",
    "\n",
    "for tp in [\"2\", \"3\", \"4\"]: # do timepoints 2:4\n",
    "    dcmdir = \"/Volumes/data/prebiostress/data/sourcedata/dicom/timepoint\"+tp\n",
    "\n",
    "    #RL\n",
    "    for fname in listdir_nohidden(dcmdir):\n",
    "        subj = fname.split(\"_\")[-3].split(\"_\")[0]\n",
    "\n",
    "        datadir = glob.glob(dcmdir+'/'+fname+'/*/DWI_MB3_DIR64_RL_0*')\n",
    "        datadir = ''.join(datadir)\n",
    "        cmd = \"dcm2niix -z y -f sub-\" +subj[1:] +\"_ses-\" +tp +\"_acq-rl_dwi \" \\\n",
    "        \"-o \" +niidir +\"/sub-\" +subj[1:] +\"/ses-\" +tp +\"/dwi \" +datadir\n",
    "        print(cmd)\n",
    "        os.system(cmd)\n",
    "    #LR\n",
    "    for fname in listdir_nohidden(dcmdir):\n",
    "        subj = fname.split(\"_\")[-3].split(\"_\")[0]\n",
    "\n",
    "        datadir = glob.glob(dcmdir+'/'+fname+'/*/DWI_MB3_DIR64_LR_0*')\n",
    "        datadir = ''.join(datadir)\n",
    "        cmd = \"dcm2niix -z y -f sub-\" +subj[1:] +\"_ses-\" +tp +\"_acq-lr_dwi \" \\\n",
    "        \"-o \" +niidir +\"/sub-\" +subj[1:] +\"/ses-\" +tp +\"/dwi \" +datadir\n",
    "        print(cmd)\n",
    "        os.system(cmd)"
   ]
  },
  {
   "cell_type": "markdown",
   "metadata": {},
   "source": [
    "# Testing Whether dcm2niix Gradient Vectors Are Correct\n",
    "\n",
    "Compare the vecs from the new version of dcm2niix with the older version and that of MRtrix:\n"
   ]
  },
  {
   "cell_type": "code",
   "execution_count": null,
   "metadata": {},
   "outputs": [],
   "source": [
    "!mrconvert -fslgrad /Volumes/data/prebiostress/data/sourcedata/nifti/test2/sub-24_ses-1_acq-rl_dwi.bvec /Volumes/data/prebiostress/data/sourcedata/nifti/test2/sub-24_ses-1_acq-rl_dwi.bval /Volumes/data/prebiostress/data/sourcedata/nifti/test2/sub-24_ses-1_acq-rl_dwi.nii.gz /Volumes/data/prebiostress/data/sourcedata/nifti/test2/sub-24_ses-1_acq-rl_dwi.mif\n",
    "!dwi2tensor sub-24_ses-1_acq-rl_dwi.mif - | tensor2metric - -vec dec.mif\n",
    "!mrview /Volumes/data/prebiostress/data/sourcedata/nifti/test-sub24-ses1-imports/fa_dicom-rl.mif # then open the fixel plot of dec.mif"
   ]
  },
  {
   "cell_type": "markdown",
   "metadata": {},
   "source": [
    "This worked! The vectors now appear to have the correct orientation and the same as just using MRtrix for dicom import."
   ]
  },
  {
   "cell_type": "markdown",
   "metadata": {},
   "source": [
    "# Notes: Brain Mask Decisions\n",
    "Tried to use a multiatlas skull stripping approach for the prebiostress images. \n",
    "However, the Template images I tried to use came from 3 year old sheep and the image content (outside the brain) between these and even the 10 week old lambs was just too different.\n",
    "\n",
    "The first manual brain mask segmentation was conducted on **sub23_ses4** using both the T1 and T2.\n",
    "To enable opening both images in the same ITK-SNAP window the T2 was resliced to the T1:\n"
   ]
  },
  {
   "cell_type": "code",
   "execution_count": null,
   "metadata": {},
   "outputs": [],
   "source": [
    "!c3d /Volumes/data/prebiostress/data/derivatives/sub-23/ses-4/anat/sub-23_ses-4_T1w_dn.nii.gz /Volumes/data/prebiostress/data/derivatives/sub-23/ses-4/anat/sub-23_ses-4_T2w_dn.nii.gz -reslice-identity -o /Volumes/data/prebiostress/data/derivatives/sub-23/ses-4/anat/testManualBrainMask/t2-in-t1space.nii.gz"
   ]
  },
  {
   "cell_type": "markdown",
   "metadata": {},
   "source": [
    "![alt text](images/Screenshot2018-11-26.png)\n",
    "\n",
    "Default image contrast values were used.\n",
    "\n",
    "### Decisions:\n",
    "* Meninges: Voxels containing meningeal tissue were excluded from the mask. However, when there was a doubt as to whether the voxel's tissue was meningeal or cerebral the benefit of doubt was given to cerebral and the voxel was included in the mask.\n",
    "* Brainstem: The brainstem segmentation was stopped approximately 5 slices posterior to the last posterior slice containing cerebellum.\n",
    "* Pituitary Gland: was included in the mask.\n",
    "* CSF: voxels within the ventricular system and in the sulci were included in the mask.\n",
    "* Optic tract, nerve & chiasm: were excluded from the mask.\n",
    "* Olfactory Bulbs: were included in the mask."
   ]
  },
  {
   "cell_type": "markdown",
   "metadata": {},
   "source": [
    "# Register 2 10w Images: A First Attempt\n",
    "Get BIDS folder structure info:"
   ]
  },
  {
   "cell_type": "code",
   "execution_count": null,
   "metadata": {},
   "outputs": [],
   "source": [
    "from bids.grabbids import BIDSLayout\n",
    "\n",
    "niftipath = '/Volumes/data/prebiostress/data/derivatives'\n",
    "layout = BIDSLayout(niftipath) # ignore the UserWarning: No valid root...."
   ]
  },
  {
   "cell_type": "markdown",
   "metadata": {},
   "source": [
    "Get path to the subject 23 session 4 anatomical - it has a manually segmented brain mask.  \n",
    "Get path to the subject 01 session 4 anatomical - we will try to automatically skull strip it.  \n",
    "Create brainmask folder for subject 01."
   ]
  },
  {
   "cell_type": "code",
   "execution_count": null,
   "metadata": {},
   "outputs": [],
   "source": [
    "fixed = layout.get(subject=\"23\",modality=\"anat\",session=\"4\",type=\"T1w\",return_type='file')\n",
    "fixed = fixed[0]\n",
    "moving = layout.get(subject=\"01\",modality=\"anat\",session=\"4\",type=\"T1w\",return_type='file')\n",
    "moving = moving[0]\n",
    "out_dir = (os.path.dirname(moving)+\"/brainmask/\")\n",
    "os.makedirs(out_dir,exist_ok=\"TRUE\")"
   ]
  },
  {
   "cell_type": "markdown",
   "metadata": {},
   "source": [
    "### Test the initialization stage:"
   ]
  },
  {
   "cell_type": "code",
   "execution_count": null,
   "metadata": {},
   "outputs": [],
   "source": [
    "%%bash -s \"$fixed\" \"$moving\" \"$out_dir\"\n",
    "antsRegistration -d 3 \\\n",
    "-u 1 \\\n",
    "-t Rigid[0.1] \\\n",
    "-m MI[ $1, $2, 1, 32] \\\n",
    "-c 0 \\\n",
    "-f 4 \\\n",
    "-s 2 \\\n",
    "-o [${3}movingInit_, ${3}movingInit_deformed.nii.gz] "
   ]
  },
  {
   "cell_type": "code",
   "execution_count": null,
   "metadata": {},
   "outputs": [],
   "source": [
    "%%bash -s \"$fixed\" \"$moving\" \"$out_dir\"\n",
    "antsRegistration -d 3 \\\n",
    "-u 1 \\\n",
    "-r [ $1, $2, 0] \\\n",
    "-t Rigid[0.1] \\\n",
    "-m MI[ $1, $2, 1, 32] \\\n",
    "-c 0 \\\n",
    "-f 4 \\\n",
    "-s 2 \\\n",
    "-o [${3}movingInit_center, ${3}movingInit_deformed_center.nii.gz] "
   ]
  },
  {
   "cell_type": "code",
   "execution_count": null,
   "metadata": {},
   "outputs": [],
   "source": [
    "%%bash -s \"$fixed\" \"$moving\" \"$out_dir\"\n",
    "antsRegistration -d 3 \\\n",
    "-u 1 \\\n",
    "-r [ $1, $2, 1] \\\n",
    "-t Rigid[0.1] \\\n",
    "-m MI[ $1, $2, 1, 32] \\\n",
    "-c 0 \\\n",
    "-f 4 \\\n",
    "-s 2 \\\n",
    "-o [${3}movingInit_intensity, ${3}movingInit_deformed_intensity.nii.gz] "
   ]
  },
  {
   "cell_type": "markdown",
   "metadata": {},
   "source": [
    "There was not so much difference between using the center of mass or the intensities at least for this image.\n",
    "Both improved the registration.\n",
    "\n",
    "### Test the rigid stage:"
   ]
  },
  {
   "cell_type": "code",
   "execution_count": null,
   "metadata": {},
   "outputs": [],
   "source": [
    "%%bash -s \"$fixed\" \"$moving\" \"$out_dir\"\n",
    "antsRegistration -d 3 \\\n",
    "-u 1 \\\n",
    "-w [0.005,0.995] \\\n",
    "-r [${3}movingInit_intensity0GenericAffine.mat] \\\n",
    "-t Rigid[0.1] \\\n",
    "-m MI[ $1, $2, 1, 32, Regular,0.2] \\\n",
    "-c [1000x500x250x100,1e-6,10] \\\n",
    "-f 8x4x2x1 \\\n",
    "-s 3x2x1x0vox \\\n",
    "-o [${3}movingRigid, ${3}movingRigid_deformed.nii.gz] "
   ]
  },
  {
   "cell_type": "markdown",
   "metadata": {},
   "source": [
    "The rigid stage improved from the initialization. \n",
    "\n",
    "### Test the affine stage:"
   ]
  },
  {
   "cell_type": "code",
   "execution_count": null,
   "metadata": {},
   "outputs": [],
   "source": [
    "%%bash -s \"$fixed\" \"$moving\" \"$out_dir\"\n",
    "antsRegistration -d 3 \\\n",
    "-u 1 \\\n",
    "-w [0.005,0.995] \\\n",
    "-r [${3}movingRigid0GenericAffine.mat] \\\n",
    "-t Affine[0.1] \\\n",
    "-m MI[ $1, $2, 1, 32, Regular,0.2] \\\n",
    "-c [1000x500x250x100,1e-6,10] \\\n",
    "-f 8x4x2x1 \\\n",
    "-s 3x2x1x0vox \\\n",
    "-o [${3}movingAffine, ${3}movingAffine_deformed.nii.gz] "
   ]
  },
  {
   "cell_type": "markdown",
   "metadata": {},
   "source": [
    "**There was no clear improvement over the rigid stage.** Some areas improved others got worse.\n",
    "\n",
    "What parameters can we change to try and improve this?\n",
    "\n",
    "### Test padding the target image with 20 voxels:"
   ]
  },
  {
   "cell_type": "code",
   "execution_count": null,
   "metadata": {},
   "outputs": [],
   "source": [
    "# rigid and affine stages combined for testing padding\n",
    "%%bash -s \"$fixed\" \"$moving\" \"$out_dir\"\n",
    "file=${1##*/}\n",
    "ImageMath 3 ${3}${file%.nii.gz}-pad.nii.gz PadImage $1 20\n",
    "\n",
    "antsRegistration -d 3 \\\n",
    "-u 1 \\\n",
    "-w [0.005,0.995] \\\n",
    "-r [ ${3}${file%.nii.gz}-pad.nii.gz, $2, 1] \\\n",
    "-t Rigid[0.1] \\\n",
    "-m MI[ ${3}${file%.nii.gz}-pad.nii.gz, $2, 1, 32, Regular,0.2] \\\n",
    "-c [1000x500x250x100,1e-6,10] \\\n",
    "-f 8x4x2x1 \\\n",
    "-s 3x2x1x0vox \\\n",
    "-t Affine[0.1] \\\n",
    "-m MI[ ${3}${file%.nii.gz}-pad.nii.gz, $2, 1, 32, Regular,0.2] \\\n",
    "-c [1000x500x250x100,1e-6,10] \\\n",
    "-f 8x4x2x1 \\\n",
    "-s 3x2x1x0vox \\\n",
    "-o [${3}movingAffinePad, ${3}movingAffinePad_deformed.nii.gz] \n",
    "\n",
    "ImageMath 3 ${3}movingAffinePad_deformed-depad.nii.gz PadImage ${3}movingAffinePad_deformed.nii.gz -20"
   ]
  },
  {
   "cell_type": "markdown",
   "metadata": {},
   "source": [
    "The result of this affine was clearly better than the affine without padding.  \n",
    "It is possible that the rigid was already better and in reality this affine is worse than a padded rigid?  \n",
    "Does increasing the padding to more than 20 voxels help or does decreasing the padding to, for example 10 still work?\n",
    "\n",
    "#### Rigid stage of testing padding"
   ]
  },
  {
   "cell_type": "code",
   "execution_count": null,
   "metadata": {},
   "outputs": [],
   "source": [
    "%%bash -s \"$fixed\" \"$moving\" \"$out_dir\"\n",
    "file=${1##*/}\n",
    "ImageMath 3 ${3}${file%.nii.gz}-pad.nii.gz PadImage $1 20\n",
    "\n",
    "antsRegistration -d 3 \\\n",
    "-u 1 \\\n",
    "-w [0.005,0.995] \\\n",
    "-r [ ${3}${file%.nii.gz}-pad.nii.gz, $2, 1] \\\n",
    "-t Rigid[0.1] \\\n",
    "-m MI[ ${3}${file%.nii.gz}-pad.nii.gz, $2, 1, 32, Regular,0.2] \\\n",
    "-c [1000x500x250x100,1e-6,10] \\\n",
    "-f 8x4x2x1 \\\n",
    "-s 3x2x1x0vox \\\n",
    "-o [${3}movingRigidPad, ${3}movingRigidPad_deformed.nii.gz]\n",
    "       \n",
    "ImageMath 3 ${3}movingRigidPad_deformed-depad.nii.gz PadImage ${3}movingRigidPad_deformed.nii.gz -20"
   ]
  },
  {
   "cell_type": "markdown",
   "metadata": {},
   "source": [
    "The result here was very slightly better than without padding.\n",
    "\n",
    "#### Affine stage of testing padding"
   ]
  },
  {
   "cell_type": "code",
   "execution_count": null,
   "metadata": {},
   "outputs": [],
   "source": [
    "%%bash -s \"$fixed\" \"$moving\" \"$out_dir\"\n",
    "file=${1##*/}\n",
    "ImageMath 3 ${3}${file%.nii.gz}-pad.nii.gz PadImage $1 20\n",
    "\n",
    "antsRegistration -d 3 \\\n",
    "-u 1 \\\n",
    "-w [0.005,0.995] \\\n",
    "-r [${3}movingRigidPad0GenericAffine.mat] \\\n",
    "-t Affine[0.1] \\\n",
    "-m MI[ ${3}${file%.nii.gz}-pad.nii.gz, $2, 1, 32, Regular,0.2] \\\n",
    "-c [1000x500x250x100,1e-6,10] \\\n",
    "-f 8x4x2x1 \\\n",
    "-s 3x2x1x0vox \\\n",
    "-o [${3}movingRigidAffinePad, ${3}movingRigidAffinePad_deformed.nii.gz] \n",
    "\n",
    "ImageMath 3 ${3}movingRigidAffinePad_deformed-depad.nii.gz PadImage ${3}movingRigidAffinePad_deformed.nii.gz -20"
   ]
  },
  {
   "cell_type": "markdown",
   "metadata": {},
   "source": [
    "The result was worse than the rigid BUT potentially less worse than the Affine stage without padding.\n",
    "\n",
    "### Test padding the target image with 10 voxels:"
   ]
  },
  {
   "cell_type": "code",
   "execution_count": null,
   "metadata": {},
   "outputs": [],
   "source": [
    "%%bash -s \"$fixed\" \"$moving\" \"$out_dir\"\n",
    "file=${1##*/}\n",
    "ImageMath 3 ${3}${file%.nii.gz}-pad.nii.gz PadImage $1 10\n",
    "\n",
    "# Rigid stage of testing padding 10\n",
    "antsRegistration -d 3 \\\n",
    "-u 1 \\\n",
    "-w [0.005,0.995] \\\n",
    "-r [ ${3}${file%.nii.gz}-pad.nii.gz, $2, 1] \\\n",
    "-t Rigid[0.1] \\\n",
    "-m MI[ ${3}${file%.nii.gz}-pad.nii.gz, $2, 1, 32, Regular,0.2] \\\n",
    "-c [1000x500x250x100,1e-6,10] \\\n",
    "-f 8x4x2x1 \\\n",
    "-s 3x2x1x0vox \\\n",
    "-o [${3}movingRigidPad10, ${3}movingRigidPad10_deformed.nii.gz]\n",
    "       \n",
    "ImageMath 3 ${3}movingRigidPad10_deformed-depad.nii.gz PadImage ${3}movingRigidPad10_deformed.nii.gz -10\n",
    "       \n",
    "# Affine stage of testing padding 10\n",
    "antsRegistration -d 3 \\\n",
    "-u 1 \\\n",
    "-w [0.005,0.995] \\\n",
    "-r [${3}movingRigidPad100GenericAffine.mat] \\\n",
    "-t Affine[0.1] \\\n",
    "-m MI[ ${3}${file%.nii.gz}-pad.nii.gz, $2, 1, 32, Regular,0.2] \\\n",
    "-c [1000x500x250x100,1e-6,10] \\\n",
    "-f 8x4x2x1 \\\n",
    "-s 3x2x1x0vox \\\n",
    "-o [${3}movingRigidAffinePad10, ${3}movingRigidAffinePad10_deformed.nii.gz]\n",
    "       \n",
    "ImageMath 3 ${3}movingRigidAffinePad10_deformed-depad.nii.gz PadImage ${3}movingRigidAffinePad10_deformed.nii.gz -10"
   ]
  },
  {
   "cell_type": "markdown",
   "metadata": {},
   "source": [
    "No noticable difference between 10 and 20 voxel padding rigid registration.  \n",
    "Affine is still slightly worse than rigid but hard to compare to other padding options, i.e., nothing obvious.\n",
    "### Test padding the target image with 30 voxels:"
   ]
  },
  {
   "cell_type": "code",
   "execution_count": null,
   "metadata": {},
   "outputs": [],
   "source": [
    "%%bash -s \"$fixed\" \"$moving\" \"$out_dir\"\n",
    "file=${1##*/}\n",
    "ImageMath 3 ${3}${file%.nii.gz}-pad.nii.gz PadImage $1 30\n",
    "\n",
    "# Rigid stage of testing padding 30\n",
    "antsRegistration -d 3 \\\n",
    "-u 1 \\\n",
    "-w [0.005,0.995] \\\n",
    "-r [ ${3}${file%.nii.gz}-pad.nii.gz, $2, 1] \\\n",
    "-t Rigid[0.1] \\\n",
    "-m MI[ ${3}${file%.nii.gz}-pad.nii.gz, $2, 1, 32, Regular,0.2] \\\n",
    "-c [1000x500x250x100,1e-6,10] \\\n",
    "-f 8x4x2x1 \\\n",
    "-s 3x2x1x0vox \\\n",
    "-o [${3}movingRigidPad30, ${3}movingRigidPad30_deformed.nii.gz]\n",
    "       \n",
    "ImageMath 3 ${3}movingRigidPad30_deformed-depad.nii.gz PadImage ${3}movingRigidPad30_deformed.nii.gz -30\n",
    "       \n",
    "# Affine stage of testing padding 30\n",
    "antsRegistration -d 3 \\\n",
    "-u 1 \\\n",
    "-w [0.005,0.995] \\\n",
    "-r [${3}movingRigidPad300GenericAffine.mat] \\\n",
    "-t Affine[0.1] \\\n",
    "-m MI[ ${3}${file%.nii.gz}-pad.nii.gz, $2, 1, 32, Regular,0.2] \\\n",
    "-c [1000x500x250x100,1e-6,10] \\\n",
    "-f 8x4x2x1 \\\n",
    "-s 3x2x1x0vox \\\n",
    "-o [${3}movingRigidAffinePad30, ${3}movingRigidAffinePad30_deformed.nii.gz]\n",
    "       \n",
    "ImageMath 3 ${3}movingRigidAffinePad30_deformed-depad.nii.gz PadImage ${3}movingRigidAffinePad30_deformed.nii.gz -30"
   ]
  },
  {
   "cell_type": "markdown",
   "metadata": {},
   "source": [
    "No real difference for rigid but the Affine 30 looks slightly better than 20 or 10 but might be worth checking better.  \n",
    "**Conclusion: The Affine stage is worse than rigid - at least for this image and for the parameters tested.**\n",
    "\n",
    "### Test going straight to SyN stage from rigid:"
   ]
  },
  {
   "cell_type": "code",
   "execution_count": null,
   "metadata": {},
   "outputs": [],
   "source": [
    "%%bash -s \"$fixed\" \"$moving\" \"$out_dir\"\n",
    "file=${1##*/}\n",
    "ImageMath 3 ${3}${file%.nii.gz}-pad.nii.gz PadImage $1 30\n",
    "       \n",
    "# SyN stage padding 30\n",
    "antsRegistration -d 3 \\\n",
    "-u 1 \\\n",
    "-w [0.005,0.995] \\\n",
    "-r [${3}movingRigidPad300GenericAffine.mat] \\\n",
    "-t SyN[0.1,3,0] \\\n",
    "-m CC[ ${3}${file%.nii.gz}-pad.nii.gz, $2, 1, 4] \\\n",
    "-c [100x70x50x20,1e-6,10] \\\n",
    "-f 8x4x2x1 \\\n",
    "-s 3x2x1x0vox \\\n",
    "-o [${3}movingRigidSyNPad30, ${3}movingRigidSyNPad30_deformed.nii.gz]\n",
    "       \n",
    "ImageMath 3 ${3}movingRigidSyNPad30_deformed-depad.nii.gz PadImage ${3}movingRigidSyNPad30_deformed.nii.gz -30"
   ]
  },
  {
   "cell_type": "markdown",
   "metadata": {},
   "source": [
    "**IT WORKED!!!** Lets put the mask into the original image space:"
   ]
  },
  {
   "cell_type": "code",
   "execution_count": null,
   "metadata": {},
   "outputs": [],
   "source": [
    "%%bash -s \"$fixed\" \"$moving\" \"$out_dir\"\n",
    "file=${1##*/}\n",
    "fixedmask='/Volumes/data/prebiostress/data/derivatives/sub-23/ses-4/anat/testManualBrainMask/brainmask.nii.gz'\n",
    "\n",
    "antsApplyTransforms -d 3 \\\n",
    "       -i $fixedmask \\\n",
    "       -r $2 \\\n",
    "       -o ${3}mask_in_sub01_space.nii.gz \\\n",
    "       -n NearestNeighbor \\\n",
    "       -t [${3}movingRigidSyNPad300GenericAffine.mat,1] \\\n",
    "       -t ${3}movingRigidSyNPad301InverseWarp.nii.gz"
   ]
  },
  {
   "cell_type": "markdown",
   "metadata": {},
   "source": [
    "This worked good. I am now making a few manual edits to the result.\n",
    "\n",
    "# Lets test for another brain:"
   ]
  },
  {
   "cell_type": "code",
   "execution_count": null,
   "metadata": {},
   "outputs": [],
   "source": [
    "moving = layout.get(subject=\"02\",modality=\"anat\",session=\"4\",type=\"T1w\",return_type='file')\n",
    "moving = moving[0]\n",
    "out_dir = (os.path.dirname(moving)+\"/brainmask/\")\n",
    "os.makedirs(out_dir,exist_ok=\"TRUE\")"
   ]
  },
  {
   "cell_type": "code",
   "execution_count": null,
   "metadata": {},
   "outputs": [],
   "source": [
    "%%bash -s \"$fixed\" \"$moving\" \"$out_dir\"\n",
    "file=${1##*/}\n",
    "ImageMath 3 ${3}${file%.nii.gz}-pad.nii.gz PadImage $1 30\n",
    "\n",
    "# Rigid stage of testing padding 30\n",
    "antsRegistration -d 3 \\\n",
    "-u 1 \\\n",
    "-w [0.005,0.995] \\\n",
    "-r [ ${3}${file%.nii.gz}-pad.nii.gz, $2, 1] \\\n",
    "-t Rigid[0.1] \\\n",
    "-m MI[ ${3}${file%.nii.gz}-pad.nii.gz, $2, 1, 32, Regular,0.2] \\\n",
    "-c [1000x500x250x100,1e-6,10] \\\n",
    "-f 8x4x2x1 \\\n",
    "-s 3x2x1x0vox \\\n",
    "-o [${3}movingRigidPad30, ${3}movingRigidPad30_deformed.nii.gz]\n",
    "       \n",
    "ImageMath 3 ${3}movingRigidPad30_deformed-depad.nii.gz PadImage ${3}movingRigidPad30_deformed.nii.gz -30"
   ]
  },
  {
   "cell_type": "markdown",
   "metadata": {},
   "source": [
    "Pretty good result; lets add the SyN stage."
   ]
  },
  {
   "cell_type": "code",
   "execution_count": null,
   "metadata": {},
   "outputs": [],
   "source": [
    "%%bash -s \"$fixed\" \"$moving\" \"$out_dir\"\n",
    "file=${1##*/}\n",
    "ImageMath 3 ${3}${file%.nii.gz}-pad.nii.gz PadImage $1 30\n",
    "       \n",
    "# SyN stage padding 30\n",
    "antsRegistration -d 3 \\\n",
    "-u 1 \\\n",
    "-w [0.005,0.995] \\\n",
    "-r [${3}movingRigidPad300GenericAffine.mat] \\\n",
    "-t SyN[0.1,3,0] \\\n",
    "-m CC[ ${3}${file%.nii.gz}-pad.nii.gz, $2, 1, 4] \\\n",
    "-c [100x70x50x20,1e-6,10] \\\n",
    "-f 8x4x2x1 \\\n",
    "-s 3x2x1x0vox \\\n",
    "-o [${3}movingRigidSyNPad30, ${3}movingRigidSyNPad30_deformed.nii.gz]\n",
    "       \n",
    "ImageMath 3 ${3}movingRigidSyNPad30_deformed-depad.nii.gz PadImage ${3}movingRigidSyNPad30_deformed.nii.gz -30"
   ]
  },
  {
   "cell_type": "markdown",
   "metadata": {},
   "source": [
    "This worked good. I am now making a few manual edits to the result.\n",
    "\n",
    "# Lets test for another brain:"
   ]
  },
  {
   "cell_type": "code",
   "execution_count": null,
   "metadata": {},
   "outputs": [],
   "source": [
    "moving = layout.get(subject=\"03\",modality=\"anat\",session=\"4\",type=\"T1w\",return_type='file')\n",
    "moving = moving[0]\n",
    "out_dir = (os.path.dirname(moving)+\"/brainmask/\")\n",
    "os.makedirs(out_dir,exist_ok=\"TRUE\")\n",
    "print(fixed)\n",
    "print(moving)\n",
    "print(out_dir)"
   ]
  },
  {
   "cell_type": "code",
   "execution_count": null,
   "metadata": {},
   "outputs": [],
   "source": [
    "%%bash -s \"$fixed\" \"$moving\" \"$out_dir\"\n",
    "file=${1##*/}\n",
    "ImageMath 3 ${3}${file%.nii.gz}-pad.nii.gz PadImage $1 30\n",
    "\n",
    "# Rigid stage of testing padding 30\n",
    "antsRegistration -d 3 \\\n",
    "-u 1 \\\n",
    "-w [0.005,0.995] \\\n",
    "-r [ ${3}${file%.nii.gz}-pad.nii.gz, $2, 1] \\\n",
    "-t Rigid[0.1] \\\n",
    "-m MI[ ${3}${file%.nii.gz}-pad.nii.gz, $2, 1, 32, Regular,0.2] \\\n",
    "-c [1000x500x250x100,1e-6,10] \\\n",
    "-f 8x4x2x1 \\\n",
    "-s 3x2x1x0vox \\\n",
    "-o [${3}movingRigidPad30, ${3}movingRigidPad30_deformed.nii.gz]\n",
    "       \n",
    "ImageMath 3 ${3}movingRigidPad30_deformed-depad.nii.gz PadImage ${3}movingRigidPad30_deformed.nii.gz -30"
   ]
  },
  {
   "cell_type": "code",
   "execution_count": null,
   "metadata": {},
   "outputs": [],
   "source": [
    "%%bash -s \"$fixed\" \"$moving\" \"$out_dir\"\n",
    "file=${1##*/}\n",
    "ImageMath 3 ${3}${file%.nii.gz}-pad.nii.gz PadImage $1 30\n",
    "       \n",
    "# SyN stage padding 30\n",
    "antsRegistration -d 3 \\\n",
    "-u 1 \\\n",
    "-w [0.005,0.995] \\\n",
    "-r [${3}movingRigidPad300GenericAffine.mat] \\\n",
    "-t SyN[0.1,3,0] \\\n",
    "-m CC[ ${3}${file%.nii.gz}-pad.nii.gz, $2, 1, 4] \\\n",
    "-c [100x70x50x20,1e-6,10] \\\n",
    "-f 8x4x2x1 \\\n",
    "-s 3x2x1x0vox \\\n",
    "-o [${3}movingRigidSyNPad30, ${3}movingRigidSyNPad30_deformed.nii.gz]\n",
    "       \n",
    "ImageMath 3 ${3}movingRigidSyNPad30_deformed-depad.nii.gz PadImage ${3}movingRigidSyNPad30_deformed.nii.gz -30"
   ]
  },
  {
   "cell_type": "markdown",
   "metadata": {},
   "source": [
    "# Skull strip using Ovin2A testing"
   ]
  },
  {
   "cell_type": "markdown",
   "metadata": {},
   "source": [
    "Try to skull strip using the cropped or un-cropped versions from ovin-2A.\n"
   ]
  },
  {
   "cell_type": "code",
   "execution_count": null,
   "metadata": {},
   "outputs": [],
   "source": [
    "# create the -g -l inputs for antsJointLabelFusion from a folder\n",
    "\n",
    "ovin = \"/Volumes/data/sheep-brain-atlases/\"\n",
    "t1s = glob.glob(ovin+\"*4month_d_crop_08_pad12.nii.gz\")\n",
    "masks = glob.glob(ovin+\"*4month_d_crop_08_brainmask_pad12.nii.gz\")\n",
    "atlases = \"\"\n",
    "for t1, mask in zip(t1s, masks):\n",
    "    atlases += (\"-g \" +t1 +\" -l \" +mask +\" \")\n",
    "\n",
    "\n",
    "target = \"/Volumes/data/prebiostress/data/derivatives/sub-23/ses-4/anat/sub-23_ses-4_T1w_dn_crop2_08_pad12.nii.gz\"\n",
    "output = \"/Volumes/data/prebiostress/data/derivatives/sub-23/ses-4/anat/ovin2Atest/\"\n",
    "posterior=output+\"Posteriors%04.nii.gz\"\n",
    "\n",
    "cmd = \"antsJointLabelFusion.sh -d 3 -t \" +target +\" -o \" +output +\" -p \" +posterior +\" \" +atlases +\"-y sr -c 2 -j 8 -q 0 > \" +output+\"log.txt\" \n",
    "os.system(cmd)"
   ]
  },
  {
   "cell_type": "code",
   "execution_count": null,
   "metadata": {},
   "outputs": [],
   "source": [
    "# create the -g -l inputs for antsJointLabelFusion from a folder\n",
    "\n",
    "ovin = \"/Volumes/data/sheep-brain-atlases/\"\n",
    "t1s = glob.glob(ovin+\"*4month_d_crop_08_pad12.nii.gz\")\n",
    "masks = glob.glob(ovin+\"*4month_d_crop_08_brainmask_pad12.nii.gz\")\n",
    "atlases = \"\"\n",
    "for t1, mask in zip(t1s, masks):\n",
    "    atlases += (\"-g \" +t1 +\" -l \" +mask +\" \")\n",
    "\n",
    "\n",
    "target = \"/Volumes/data/prebiostress/data/derivatives/sub-01/ses-4/anat/sub-01_ses-4_T1w_dn_crop-08-pad12.nii.gz\"\n",
    "output = \"/Volumes/data/prebiostress/data/derivatives/sub-01/ses-4/anat/ovin2Atest/\"\n",
    "posterior=output+\"Posteriors%04.nii.gz\"\n",
    "\n",
    "os.makedirs(output,exist_ok=True)\n",
    "cmd = \"antsJointLabelFusion.sh -d 3 -t \" +target +\" -o \" +output +\" -p \" +posterior +\" \" +atlases +\"-y sr -c 2 -j 8 -q 0 > \" +output+\"log.txt\" \n",
    "os.system(cmd)"
   ]
  },
  {
   "cell_type": "code",
   "execution_count": null,
   "metadata": {},
   "outputs": [],
   "source": [
    "layout()"
   ]
  },
  {
   "cell_type": "markdown",
   "metadata": {},
   "source": [
    "# Calculate Intracranial Volume"
   ]
  },
  {
   "cell_type": "code",
   "execution_count": 2,
   "metadata": {},
   "outputs": [],
   "source": [
    "import os\n",
    "import json\n",
    "import fnmatch\n",
    "import glob\n",
    "import bids\n",
    "import shutil\n",
    "import multiprocessing\n",
    "import pandas as pd\n",
    "from bids import BIDSLayout\n",
    "from joblib import Parallel, delayed\n",
    "\n",
    "derivatives = \"/Volumes/data/prebiostress/data/derivatives/\"\n",
    "layout = BIDSLayout(derivatives,validate=False)\n",
    "\n",
    "grouping = pd.read_csv('participants.tsv', delimiter = '\\t')"
   ]
  },
  {
   "cell_type": "code",
   "execution_count": null,
   "metadata": {},
   "outputs": [],
   "source": [
    "for subj in [\"01\",\"02\"]: #layout.get_subjects():\n",
    "    i=grouping[grouping[\"participant_id\"].str.contains(subj)].group\n",
    "    print(subj)\n",
    "    for ses in layout.get_sessions():\n",
    "        print(ses)\n",
    "        targ = os.path.join(derivatives,\"sub-\"+subj,\"ses-\"+ses,\"anat\")\n",
    "        \n",
    "        t1path = glob.glob(targ+\"/*T1w_dn.nii.gz\") # find all T1s   \n",
    "        t1path = \"\".join(t1path)\n",
    "                \n",
    "        maskpath = glob.glob(targ+\"/brainmask-allTemps/Labels.nii.gz\") # find all T1s   \n",
    "        maskpath = \"\".join(maskpath)\n",
    "        \n",
    "        output = targ +\"/sub-\" +subj +\"_ses-\" +ses +\"_T1w_dn_brainmask.nii.gz\"\n",
    "        \n",
    "        # reslice the brainmask to the original image header\n",
    "        cmd= \"c3d \" +t1path +\" \" +maskpath +\" -reslice-identity -o \" +output\n",
    "        os.system(cmd)\n",
    "        \n",
    "        # extract the brain\n",
    "        cmd= \"c3d \" +t1path +\" \" +output +\" -multiply -o \" +output[:-16] +\"brain.nii.gz\"\n",
    "        os.system(cmd)\n",
    "        \n",
    "        os.makedirs(targ+\"/fsl\",exist_ok=True)\n",
    "        \n",
    "        # segment the brain\n",
    "        cmd= \"fast -I 4 -B -v -g -o \" +targ+\"/fsl/\" +\"sub-\" +subj +\"_ses-\"+ses +\" \" +t1path\n",
    "        os.system(cmd)"
   ]
  },
  {
   "cell_type": "code",
   "execution_count": 3,
   "metadata": {},
   "outputs": [
    {
     "name": "stdout",
     "output_type": "stream",
     "text": [
      "01\n",
      "02\n",
      "03\n",
      "04\n",
      "05\n",
      "06\n",
      "07\n",
      "08\n",
      "09\n",
      "10\n",
      "11\n",
      "12\n",
      "13\n",
      "14\n",
      "15\n"
     ]
    },
    {
     "ename": "KeyboardInterrupt",
     "evalue": "",
     "output_type": "error",
     "traceback": [
      "\u001b[0;31m---------------------------------------------------------------------------\u001b[0m",
      "\u001b[0;31mKeyboardInterrupt\u001b[0m                         Traceback (most recent call last)",
      "\u001b[0;32m<ipython-input-3-386b0a3256c7>\u001b[0m in \u001b[0;36m<module>\u001b[0;34m\u001b[0m\n\u001b[1;32m     31\u001b[0m \u001b[0;32mfor\u001b[0m \u001b[0msubj\u001b[0m \u001b[0;32min\u001b[0m \u001b[0mlayout\u001b[0m\u001b[0;34m.\u001b[0m\u001b[0mget_subjects\u001b[0m\u001b[0;34m(\u001b[0m\u001b[0;34m)\u001b[0m\u001b[0;34m:\u001b[0m\u001b[0;34m\u001b[0m\u001b[0;34m\u001b[0m\u001b[0m\n\u001b[1;32m     32\u001b[0m     \u001b[0mprint\u001b[0m\u001b[0;34m(\u001b[0m\u001b[0msubj\u001b[0m\u001b[0;34m)\u001b[0m\u001b[0;34m\u001b[0m\u001b[0;34m\u001b[0m\u001b[0m\n\u001b[0;32m---> 33\u001b[0;31m     \u001b[0mParallel\u001b[0m\u001b[0;34m(\u001b[0m\u001b[0mn_jobs\u001b[0m\u001b[0;34m=\u001b[0m\u001b[0;36m4\u001b[0m\u001b[0;34m)\u001b[0m\u001b[0;34m(\u001b[0m\u001b[0mdelayed\u001b[0m\u001b[0;34m(\u001b[0m\u001b[0mruneachsess\u001b[0m\u001b[0;34m)\u001b[0m\u001b[0;34m(\u001b[0m\u001b[0msubj\u001b[0m\u001b[0;34m,\u001b[0m\u001b[0mses\u001b[0m\u001b[0;34m)\u001b[0m\u001b[0;32mfor\u001b[0m \u001b[0mses\u001b[0m \u001b[0;32min\u001b[0m \u001b[0mlayout\u001b[0m\u001b[0;34m.\u001b[0m\u001b[0mget_sessions\u001b[0m\u001b[0;34m(\u001b[0m\u001b[0;34m)\u001b[0m\u001b[0;34m)\u001b[0m \u001b[0;31m# loop on number of subjects\u001b[0m\u001b[0;34m\u001b[0m\u001b[0;34m\u001b[0m\u001b[0m\n\u001b[0m",
      "\u001b[0;32m~/anaconda3/lib/python3.7/site-packages/joblib/parallel.py\u001b[0m in \u001b[0;36m__call__\u001b[0;34m(self, iterable)\u001b[0m\n\u001b[1;32m    932\u001b[0m \u001b[0;34m\u001b[0m\u001b[0m\n\u001b[1;32m    933\u001b[0m             \u001b[0;32mwith\u001b[0m \u001b[0mself\u001b[0m\u001b[0;34m.\u001b[0m\u001b[0m_backend\u001b[0m\u001b[0;34m.\u001b[0m\u001b[0mretrieval_context\u001b[0m\u001b[0;34m(\u001b[0m\u001b[0;34m)\u001b[0m\u001b[0;34m:\u001b[0m\u001b[0;34m\u001b[0m\u001b[0;34m\u001b[0m\u001b[0m\n\u001b[0;32m--> 934\u001b[0;31m                 \u001b[0mself\u001b[0m\u001b[0;34m.\u001b[0m\u001b[0mretrieve\u001b[0m\u001b[0;34m(\u001b[0m\u001b[0;34m)\u001b[0m\u001b[0;34m\u001b[0m\u001b[0;34m\u001b[0m\u001b[0m\n\u001b[0m\u001b[1;32m    935\u001b[0m             \u001b[0;31m# Make sure that we get a last message telling us we are done\u001b[0m\u001b[0;34m\u001b[0m\u001b[0;34m\u001b[0m\u001b[0;34m\u001b[0m\u001b[0m\n\u001b[1;32m    936\u001b[0m             \u001b[0melapsed_time\u001b[0m \u001b[0;34m=\u001b[0m \u001b[0mtime\u001b[0m\u001b[0;34m.\u001b[0m\u001b[0mtime\u001b[0m\u001b[0;34m(\u001b[0m\u001b[0;34m)\u001b[0m \u001b[0;34m-\u001b[0m \u001b[0mself\u001b[0m\u001b[0;34m.\u001b[0m\u001b[0m_start_time\u001b[0m\u001b[0;34m\u001b[0m\u001b[0;34m\u001b[0m\u001b[0m\n",
      "\u001b[0;32m~/anaconda3/lib/python3.7/site-packages/joblib/parallel.py\u001b[0m in \u001b[0;36mretrieve\u001b[0;34m(self)\u001b[0m\n\u001b[1;32m    831\u001b[0m             \u001b[0;32mtry\u001b[0m\u001b[0;34m:\u001b[0m\u001b[0;34m\u001b[0m\u001b[0;34m\u001b[0m\u001b[0m\n\u001b[1;32m    832\u001b[0m                 \u001b[0;32mif\u001b[0m \u001b[0mgetattr\u001b[0m\u001b[0;34m(\u001b[0m\u001b[0mself\u001b[0m\u001b[0;34m.\u001b[0m\u001b[0m_backend\u001b[0m\u001b[0;34m,\u001b[0m \u001b[0;34m'supports_timeout'\u001b[0m\u001b[0;34m,\u001b[0m \u001b[0;32mFalse\u001b[0m\u001b[0;34m)\u001b[0m\u001b[0;34m:\u001b[0m\u001b[0;34m\u001b[0m\u001b[0;34m\u001b[0m\u001b[0m\n\u001b[0;32m--> 833\u001b[0;31m                     \u001b[0mself\u001b[0m\u001b[0;34m.\u001b[0m\u001b[0m_output\u001b[0m\u001b[0;34m.\u001b[0m\u001b[0mextend\u001b[0m\u001b[0;34m(\u001b[0m\u001b[0mjob\u001b[0m\u001b[0;34m.\u001b[0m\u001b[0mget\u001b[0m\u001b[0;34m(\u001b[0m\u001b[0mtimeout\u001b[0m\u001b[0;34m=\u001b[0m\u001b[0mself\u001b[0m\u001b[0;34m.\u001b[0m\u001b[0mtimeout\u001b[0m\u001b[0;34m)\u001b[0m\u001b[0;34m)\u001b[0m\u001b[0;34m\u001b[0m\u001b[0;34m\u001b[0m\u001b[0m\n\u001b[0m\u001b[1;32m    834\u001b[0m                 \u001b[0;32melse\u001b[0m\u001b[0;34m:\u001b[0m\u001b[0;34m\u001b[0m\u001b[0;34m\u001b[0m\u001b[0m\n\u001b[1;32m    835\u001b[0m                     \u001b[0mself\u001b[0m\u001b[0;34m.\u001b[0m\u001b[0m_output\u001b[0m\u001b[0;34m.\u001b[0m\u001b[0mextend\u001b[0m\u001b[0;34m(\u001b[0m\u001b[0mjob\u001b[0m\u001b[0;34m.\u001b[0m\u001b[0mget\u001b[0m\u001b[0;34m(\u001b[0m\u001b[0;34m)\u001b[0m\u001b[0;34m)\u001b[0m\u001b[0;34m\u001b[0m\u001b[0;34m\u001b[0m\u001b[0m\n",
      "\u001b[0;32m~/anaconda3/lib/python3.7/site-packages/joblib/_parallel_backends.py\u001b[0m in \u001b[0;36mwrap_future_result\u001b[0;34m(future, timeout)\u001b[0m\n\u001b[1;32m    519\u001b[0m         AsyncResults.get from multiprocessing.\"\"\"\n\u001b[1;32m    520\u001b[0m         \u001b[0;32mtry\u001b[0m\u001b[0;34m:\u001b[0m\u001b[0;34m\u001b[0m\u001b[0;34m\u001b[0m\u001b[0m\n\u001b[0;32m--> 521\u001b[0;31m             \u001b[0;32mreturn\u001b[0m \u001b[0mfuture\u001b[0m\u001b[0;34m.\u001b[0m\u001b[0mresult\u001b[0m\u001b[0;34m(\u001b[0m\u001b[0mtimeout\u001b[0m\u001b[0;34m=\u001b[0m\u001b[0mtimeout\u001b[0m\u001b[0;34m)\u001b[0m\u001b[0;34m\u001b[0m\u001b[0;34m\u001b[0m\u001b[0m\n\u001b[0m\u001b[1;32m    522\u001b[0m         \u001b[0;32mexcept\u001b[0m \u001b[0mLokyTimeoutError\u001b[0m\u001b[0;34m:\u001b[0m\u001b[0;34m\u001b[0m\u001b[0;34m\u001b[0m\u001b[0m\n\u001b[1;32m    523\u001b[0m             \u001b[0;32mraise\u001b[0m \u001b[0mTimeoutError\u001b[0m\u001b[0;34m(\u001b[0m\u001b[0;34m)\u001b[0m\u001b[0;34m\u001b[0m\u001b[0;34m\u001b[0m\u001b[0m\n",
      "\u001b[0;32m~/anaconda3/lib/python3.7/concurrent/futures/_base.py\u001b[0m in \u001b[0;36mresult\u001b[0;34m(self, timeout)\u001b[0m\n\u001b[1;32m    425\u001b[0m                 \u001b[0;32mreturn\u001b[0m \u001b[0mself\u001b[0m\u001b[0;34m.\u001b[0m\u001b[0m__get_result\u001b[0m\u001b[0;34m(\u001b[0m\u001b[0;34m)\u001b[0m\u001b[0;34m\u001b[0m\u001b[0;34m\u001b[0m\u001b[0m\n\u001b[1;32m    426\u001b[0m \u001b[0;34m\u001b[0m\u001b[0m\n\u001b[0;32m--> 427\u001b[0;31m             \u001b[0mself\u001b[0m\u001b[0;34m.\u001b[0m\u001b[0m_condition\u001b[0m\u001b[0;34m.\u001b[0m\u001b[0mwait\u001b[0m\u001b[0;34m(\u001b[0m\u001b[0mtimeout\u001b[0m\u001b[0;34m)\u001b[0m\u001b[0;34m\u001b[0m\u001b[0;34m\u001b[0m\u001b[0m\n\u001b[0m\u001b[1;32m    428\u001b[0m \u001b[0;34m\u001b[0m\u001b[0m\n\u001b[1;32m    429\u001b[0m             \u001b[0;32mif\u001b[0m \u001b[0mself\u001b[0m\u001b[0;34m.\u001b[0m\u001b[0m_state\u001b[0m \u001b[0;32min\u001b[0m \u001b[0;34m[\u001b[0m\u001b[0mCANCELLED\u001b[0m\u001b[0;34m,\u001b[0m \u001b[0mCANCELLED_AND_NOTIFIED\u001b[0m\u001b[0;34m]\u001b[0m\u001b[0;34m:\u001b[0m\u001b[0;34m\u001b[0m\u001b[0;34m\u001b[0m\u001b[0m\n",
      "\u001b[0;32m~/anaconda3/lib/python3.7/threading.py\u001b[0m in \u001b[0;36mwait\u001b[0;34m(self, timeout)\u001b[0m\n\u001b[1;32m    294\u001b[0m         \u001b[0;32mtry\u001b[0m\u001b[0;34m:\u001b[0m    \u001b[0;31m# restore state no matter what (e.g., KeyboardInterrupt)\u001b[0m\u001b[0;34m\u001b[0m\u001b[0;34m\u001b[0m\u001b[0m\n\u001b[1;32m    295\u001b[0m             \u001b[0;32mif\u001b[0m \u001b[0mtimeout\u001b[0m \u001b[0;32mis\u001b[0m \u001b[0;32mNone\u001b[0m\u001b[0;34m:\u001b[0m\u001b[0;34m\u001b[0m\u001b[0;34m\u001b[0m\u001b[0m\n\u001b[0;32m--> 296\u001b[0;31m                 \u001b[0mwaiter\u001b[0m\u001b[0;34m.\u001b[0m\u001b[0macquire\u001b[0m\u001b[0;34m(\u001b[0m\u001b[0;34m)\u001b[0m\u001b[0;34m\u001b[0m\u001b[0;34m\u001b[0m\u001b[0m\n\u001b[0m\u001b[1;32m    297\u001b[0m                 \u001b[0mgotit\u001b[0m \u001b[0;34m=\u001b[0m \u001b[0;32mTrue\u001b[0m\u001b[0;34m\u001b[0m\u001b[0;34m\u001b[0m\u001b[0m\n\u001b[1;32m    298\u001b[0m             \u001b[0;32melse\u001b[0m\u001b[0;34m:\u001b[0m\u001b[0;34m\u001b[0m\u001b[0;34m\u001b[0m\u001b[0m\n",
      "\u001b[0;31mKeyboardInterrupt\u001b[0m: "
     ]
    }
   ],
   "source": [
    "# fast on the T1\n",
    "def runeachsess(subj,ses):\n",
    "    targ = os.path.join(derivatives,\"sub-\"+subj,\"ses-\"+ses,\"anat\")\n",
    "    t1path = glob.glob(targ+\"/*T1w_dn.nii.gz\") # find all T1s   \n",
    "    t1path = \"\".join(t1path)\n",
    "    if len(t1path) > 0:\n",
    "        maskpath = glob.glob(targ+\"/brainmask-allTemps/Labels.nii.gz\") # find all T1s   \n",
    "        maskpath = \"\".join(maskpath)\n",
    "        \n",
    "        output = targ +\"/sub-\" +subj +\"_ses-\" +ses +\"_T1w_dn_brainmask.nii.gz\"\n",
    "        \n",
    "        # reslice the brainmask to the original image header\n",
    "        cmd= \"c3d \" +t1path +\" \" +maskpath +\" -interpolation NearestNeighbor -reslice-identity -o \" +output\n",
    "        #os.system(cmd)\n",
    "                \n",
    "        # extract the T1 brain\n",
    "        cmd= \"c3d \" +t1path +\" \" +output +\" -multiply -o \" +output[:-16] +\"brain.nii.gz\"\n",
    "        #os.system(cmd)\n",
    "        \n",
    "        t2path = glob.glob(targ+\"/*T2w-in-T1w.nii.gz\") # find all the T2 already in T1 space \n",
    "        t2path = \"\".join(t2path)\n",
    "        # extract the T2 brain\n",
    "        cmd= \"c3d \" +t2path +\" \" +output +\" -multiply -o \" +t2path[:-7] +\"_brain.nii.gz\"\n",
    "        #os.system(cmd)\n",
    "        \n",
    "        os.makedirs(targ+\"/fsl\",exist_ok=True)\n",
    "        # segment the brain\n",
    "        cmd= \"fast -B -b -g -v -o \" +targ+\"/fsl/\" +\"sub-\" +subj +\"_ses-\"+ses +\" \" +output[:-16] +\"brain.nii.gz\"\n",
    "        os.system(cmd)\n",
    "        \n",
    "for subj in layout.get_subjects():\n",
    "    print(subj)\n",
    "    Parallel(n_jobs=4)(delayed(runeachsess)(subj,ses)for ses in layout.get_sessions()) # loop on number of subjects\n"
   ]
  },
  {
   "cell_type": "code",
   "execution_count": null,
   "metadata": {},
   "outputs": [],
   "source": [
    "def runeachsess(subj,ses):\n",
    "    targ = os.path.join(derivatives,\"sub-\"+subj,\"ses-\"+ses,\"anat\")\n",
    "    t1path = glob.glob(targ+\"/*T1w_dn.nii.gz\") # find all T1s   \n",
    "    t1path = \"\".join(t1path)\n",
    "    if len(t1path) > 0:        \n",
    "        output = targ +\"/sub-\" +subj +\"_ses-\" +ses +\"_T1w_dn_brainmask.nii.gz\"\n",
    "        \n",
    "        outdir=targ+\"/fsl\"\n",
    "        os.makedirs(outdir,exist_ok=True)\n",
    "        # segment the brain\n",
    "        #cmd= \"fast -I 6 -l 8 -f 0.01 -O 5 -R 0.15 -B -v -g -o \" +targ+\"/fsl-noBias/\" +\"sub-\" +subj +\"_ses-\"+ses +\" \" +output[:-16] +\"brain.nii.gz\"\n",
    "        cmd= \"fast -B -b -g -v -o \" +outdir +\"/sub-\" +subj +\"_ses-\"+ses +\" \" +output[:-16] +\"brain.nii.gz\"\n",
    "        os.system(cmd)\n",
    "        \n",
    "for subj in [\"01\",\"23\"]: #layout.get_subjects():\n",
    "    print(subj)\n",
    "    Parallel(n_jobs=4)(delayed(runeachsess)(subj,ses)for ses in layout.get_sessions())\n"
   ]
  },
  {
   "cell_type": "markdown",
   "metadata": {},
   "source": [
    "# Extract volume data"
   ]
  },
  {
   "cell_type": "code",
   "execution_count": null,
   "metadata": {},
   "outputs": [],
   "source": [
    "# do something to remove existing txt file\n",
    "!rm seg_vol.csv\n",
    "!echo \"Subject,Group,Session,Total,GM,WM,CSF\" > seg_vol.csv\n",
    "\n",
    "for subj in [\"01\",\"02\"]: #layout.get_subjects():\n",
    "    i=grouping[grouping[\"participant_id\"].str.contains(subj)].group\n",
    "    print(subj)\n",
    "    for ses in layout.get_sessions():\n",
    "               \n",
    "        targ = os.path.join(derivatives,\"sub-\"+subj,\"ses-\"+ses,\"anat\",\"fsl\")\n",
    "        csf = targ +\"/sub-\" +subj +\"_ses-\" +ses +\"_pve_0.nii.gz\"\n",
    "        gm = targ +\"/sub-\" +subj +\"_ses-\" +ses +\"_pve_1.nii.gz\"\n",
    "        wm = targ +\"/sub-\" +subj +\"_ses-\" +ses +\"_pve_2.nii.gz\"\n",
    "        \n",
    "        cmd = \"fslstats \" +csf +\" -M -V | awk '{ print $1 * $3  }'\"\n",
    "        csfvol = os.popen(cmd).read()\n",
    "        \n",
    "        cmd = \"fslstats \" +gm +\" -M -V | awk '{ print $1 * $3 }'\"\n",
    "        gmvol = os.popen(cmd).read()\n",
    "        \n",
    "        cmd = \"fslstats \" +wm +\" -M -V | awk '{ print $1 * $3 }'\"\n",
    "        wmvol = os.popen(cmd).read()\n",
    "        \n",
    "        maskpath = glob.glob(targ[:-3]+\"*dn_brainmask.nii.gz\") # find all T1s   \n",
    "        maskpath = \"\".join(maskpath)\n",
    "        \n",
    "        cmd = \"fslstats \" +maskpath +\" -V | awk '{ print $2 }'\"\n",
    "        vol = os.popen(cmd).read()\n",
    "        \n",
    "        print(csfvol[:-1], gmvol[:-1], wmvol[:-1],vol[:-1])\n",
    "        "
   ]
  },
  {
   "cell_type": "markdown",
   "metadata": {},
   "source": [
    "# N4 bias field correction"
   ]
  },
  {
   "cell_type": "code",
   "execution_count": null,
   "metadata": {},
   "outputs": [],
   "source": [
    "def runeachsess(subj,ses):\n",
    "    targ = os.path.join(derivatives,\"sub-\"+subj,\"ses-\"+ses,\"anat\")\n",
    "    t1path = glob.glob(targ+\"/*T1w_dn_brain.nii.gz\") # find all T1s   \n",
    "    t1path = \"\".join(t1path)\n",
    "    if len(t1path) > 0:\n",
    "        maskpath = glob.glob(targ+\"/*dn_brainmask.nii.gz\") # find all T1s   \n",
    "        maskpath = \"\".join(maskpath)\n",
    "        \n",
    "        cmd=\"N4BiasFieldCorrection -v 1 -d 3 -s 3 -c [100x100x100x100,0.000000001] -b [200] -i \" +t1path +\" -x \" +maskpath +\" -o \" +t1path[:-7] +\"_n4-3.nii.gz\"\n",
    "        os.system(cmd)\n",
    "        \n",
    "for subj in [\"01\",\"23\"]: #layout.get_subjects():\n",
    "    print(subj)\n",
    "    Parallel(n_jobs=2)(delayed(runeachsess)(subj,ses)for ses in layout.get_sessions()) # loop on number of subjects"
   ]
  }
 ],
 "metadata": {
  "kernelspec": {
   "display_name": "Python 3",
   "language": "python",
   "name": "python3"
  },
  "language_info": {
   "codemirror_mode": {
    "name": "ipython",
    "version": 3
   },
   "file_extension": ".py",
   "mimetype": "text/x-python",
   "name": "python",
   "nbconvert_exporter": "python",
   "pygments_lexer": "ipython3",
   "version": "3.7.3"
  }
 },
 "nbformat": 4,
 "nbformat_minor": 2
}
