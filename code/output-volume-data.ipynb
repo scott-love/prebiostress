{
 "cells": [
  {
   "cell_type": "code",
   "execution_count": 1,
   "metadata": {},
   "outputs": [],
   "source": [
    "import os\n",
    "import json\n",
    "import fnmatch\n",
    "import glob\n",
    "import bids\n",
    "import shutil\n",
    "import multiprocessing\n",
    "import pandas as pd\n",
    "from bids import BIDSLayout\n",
    "from joblib import Parallel, delayed\n",
    "\n",
    "derivatives = \"/Volumes/data/prebiostress/data/derivatives/\"\n",
    "layout = BIDSLayout(derivatives,validate=False)\n",
    "\n",
    "grouping = pd.read_csv('participants.tsv', delimiter = '\\t')"
   ]
  },
  {
   "cell_type": "code",
   "execution_count": 2,
   "metadata": {},
   "outputs": [
    {
     "name": "stdout",
     "output_type": "stream",
     "text": [
      "1\n",
      "2\n",
      "3\n",
      "4\n",
      "5\n",
      "6\n",
      "7\n",
      "8\n",
      "9\n",
      "10\n",
      "11\n",
      "12\n",
      "13\n",
      "14\n",
      "15\n",
      "16\n",
      "17\n",
      "18\n",
      "19\n",
      "20\n",
      "21\n",
      "22\n",
      "23\n",
      "24\n",
      "25\n"
     ]
    }
   ],
   "source": [
    "# do something to remove existing txt file\n",
    "!rm seg_vol.csv\n",
    "!echo \"Subject,Group,Session,GM,WM,CSF,Total\" > seg_vol.csv\n",
    "count=0\n",
    "for subj in layout.get_subjects():\n",
    "    for ses in layout.get_sessions():\n",
    "               \n",
    "        targ = os.path.join(derivatives,\"sub-\"+subj,\"ses-\"+ses,\"anat\",\"fsl\")\n",
    "        csf = targ +\"/sub-\" +subj +\"_ses-\" +ses +\"_pve_0.nii.gz\"\n",
    "        gm = targ +\"/sub-\" +subj +\"_ses-\" +ses +\"_pve_1.nii.gz\"\n",
    "        wm = targ +\"/sub-\" +subj +\"_ses-\" +ses +\"_pve_2.nii.gz\"\n",
    "        \n",
    "        cmd = \"fslstats \" +csf +\" -M -V | awk '{ print $1 * $3  }'\"\n",
    "        csfvol = os.popen(cmd).read()\n",
    "        \n",
    "        cmd = \"fslstats \" +gm +\" -M -V | awk '{ print $1 * $3 }'\"\n",
    "        gmvol = os.popen(cmd).read()\n",
    "        \n",
    "        cmd = \"fslstats \" +wm +\" -M -V | awk '{ print $1 * $3 }'\"\n",
    "        wmvol = os.popen(cmd).read()\n",
    "        \n",
    "        maskpath = glob.glob(targ[:-3]+\"*dn_brainmask.nii.gz\") # find all T1s   \n",
    "        maskpath = \"\".join(maskpath)\n",
    "        \n",
    "        cmd = \"fslstats \" +maskpath +\" -V | awk '{ print $2 }'\"\n",
    "        vol = os.popen(cmd).read()\n",
    "        \n",
    "        #print(\"subj,grouping.iloc[count][\"group\"],ses,csfvol[:-1], gmvol[:-1], wmvol[:-1],vol[:-1]\")\n",
    "        #os.system(\"echo 'subj','grouping.iloc[count]['group']'','ses','csfvol[:-1]'','gmvol[:-1]'','wmvol[:-1]'','vol[:-1]' >> seg_vol.csv\")\n",
    "        \n",
    "        cmd= \"echo sub-\" +subj +\"\\,\" +grouping.iloc[count][\"group\"] +\"\\,\" +ses +\"\\,\" +csfvol[:-1] +\"\\,\" +gmvol[:-1] +\"\\,\" +wmvol[:-1]  +\"\\,\" +vol[:-1] +\" >> seg_vol.csv\"\n",
    "        os.system(cmd)\n",
    "    count = count+1\n",
    "    print(count)"
   ]
  }
 ],
 "metadata": {
  "kernelspec": {
   "display_name": "Python 3",
   "language": "python",
   "name": "python3"
  },
  "language_info": {
   "codemirror_mode": {
    "name": "ipython",
    "version": 3
   },
   "file_extension": ".py",
   "mimetype": "text/x-python",
   "name": "python",
   "nbconvert_exporter": "python",
   "pygments_lexer": "ipython3",
   "version": "3.7.3"
  }
 },
 "nbformat": 4,
 "nbformat_minor": 2
}
